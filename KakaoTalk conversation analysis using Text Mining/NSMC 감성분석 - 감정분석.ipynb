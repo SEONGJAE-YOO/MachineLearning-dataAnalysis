{
 "cells": [
  {
   "cell_type": "markdown",
   "metadata": {},
   "source": [
    "## NSMC로 감정 분석(텍스트 분류) 하기"
   ]
  },
  {
   "cell_type": "markdown",
   "metadata": {},
   "source": [
    "![감정분석 다이어그램](figs/sentiment_analysis.jpg)"
   ]
  },
  {
   "cell_type": "markdown",
   "metadata": {},
   "source": [
    "> Reference : https://www.kdnuggets.com/2018/03/5-things-sentiment-analysis-classification.html"
   ]
  },
  {
   "cell_type": "markdown",
   "metadata": {},
   "source": [
    "### 1. 감정분석이란?\n",
    "\n",
    "* Natural Language Processing, Text Analysis, Computational Lingustics, biometrics 같은 방법을 이용하여 텍스트에 숨겨져있는 저자의 의도나 정보를 찾아내는 모든 방법들을 말한다.\n",
    "\n",
    "\n",
    "* Opinion Mining, Sentiment Mining, Subjectivity Analysis 라고도 불리기도 한다.\n",
    "\n",
    "\n",
    "* 초반의 방법들은 텍스트의 극성(Polarity)를 찾기 위해 많이 시도되었다. 대표적인 예로 <b>긍정/부정</b>으로 나누는 케이스가 있다.\n",
    "\n",
    "\n",
    "* 감정 분석은 크게 Knowledge-based approach, Machine Learning-based approach가 있다.\n",
    "\n",
    "> Knowledge-based는 알려진 어구, 어미, 관용 표현등을 활용하여 이미 문서들을 human expert가 평가한 데이터를 가져와 평가하는 방법이다.\n",
    "\n",
    "> ML-based approach는 supervised, unsupervised 방법이 있다. 최근 pretrained Language Model이 비약적으로 발달함에 따라 unsupervised 방법의 성능도 많이 높아졌지만, 아직까지는 성능면에선 supervised가 월등히 높다.\n",
    "\n",
    "* 따라서, 가장 많이 쓰이는 방법인 text classification으로서의 sentiment analysis를 공부해보고, 추가적으로 생각해볼 여러 가지 이슈에 대해 고민해보는 시간을 가진다."
   ]
  },
  {
   "cell_type": "markdown",
   "metadata": {},
   "source": [
    "<img src=\"figs/sentiment_diagram.png\" width=\"500\">"
   ]
  },
  {
   "cell_type": "markdown",
   "metadata": {},
   "source": [
    "### 2. 텍스트 분류란?\n",
    "\n",
    "* 벡터 형태로 표현된 텍스트를 말그대로 분류하는 방법이다.\n",
    "\n",
    "\n",
    "* DNN이 비약적으로 성능 향상을 가져오기 전까지는 SVM이 가장 많이 사용되었다.\n",
    "\n",
    "\n",
    "* 현재는 CNN, LSTM을 분류 모델로 가장 많이 사용한다.\n",
    "\n",
    "\n",
    "* 실제로 텍스트 분류 작업은 큰 범위에서 대부분의 NLP downstream task를 포함한다.\n",
    "\n",
    "\n",
    "* 하나의 예로, Siamese Network라는 걸 통해서 Question-Answering pair를 학습하게 되면, 분류의 기준이 \"특정 질문에 맞는 정답을 잘 골랐는가 아닌가(0 / 1)\"를 해결하는 문제로 바뀌게 된다."
   ]
  },
  {
   "cell_type": "markdown",
   "metadata": {},
   "source": [
    "<img src=\"figs/text_classification.png\" width=\"400\">"
   ]
  },
  {
   "cell_type": "markdown",
   "metadata": {},
   "source": [
    "### 3. scikit-learn으로 NSMC 감정분석 하기"
   ]
  },
  {
   "cell_type": "markdown",
   "metadata": {},
   "source": [
    "* 저번 시간에 했던 코드를 그대로 가져와, nsmc를 불러옵니다."
   ]
  },
  {
   "cell_type": "code",
   "execution_count": 1,
   "metadata": {},
   "outputs": [],
   "source": [
    "def read_documents(filename):\n",
    "    with open(filename, encoding='utf-8') as f:\n",
    "        documents = [line.split('\\t') for line in f.read().splitlines()]\n",
    "        documents = documents[1:]\n",
    "        \n",
    "    return documents\n",
    "    \n",
    "train_docs = read_documents(\"ratings_train.txt\")\n",
    "test_docs = read_documents(\"ratings_test.txt\")"
   ]
  },
  {
   "cell_type": "code",
   "execution_count": 2,
   "metadata": {},
   "outputs": [
    {
     "name": "stdout",
     "output_type": "stream",
     "text": [
      "150000\n",
      "50000\n"
     ]
    }
   ],
   "source": [
    "print(len(train_docs))\n",
    "print(len(test_docs))"
   ]
  },
  {
   "cell_type": "code",
   "execution_count": 3,
   "metadata": {},
   "outputs": [],
   "source": [
    "def text_cleaning(doc):\n",
    "    # 한국어를 제외한 글자를 제거하는 함수.\n",
    "    \n",
    "    doc = re.sub(\"[^ㄱ-ㅎㅏ-ㅣ가-힣 ]\", \"\", doc)\n",
    "        \n",
    "    return doc\n",
    "\n",
    "def define_stopwords(path):\n",
    "    \n",
    "    SW = set()\n",
    "    # 불용어를 추가하는 방법 1.\n",
    "    # SW.add(\"있다\")\n",
    "    \n",
    "    # 불용어를 추가하는 방법 2.\n",
    "    # stopwords-ko.txt에 직접 추가\n",
    "    \n",
    "    with open(path) as f:\n",
    "        for word in f:\n",
    "            SW.add(word)\n",
    "            \n",
    "    return SW\n",
    "\n",
    "def text_tokenizing(doc):\n",
    "    return [word for word in mecab.morphs(doc) if word not in SW and len(word) > 1]\n",
    "    \n",
    "    # wordcloud를 위해 명사만 추출하는 경우.\n",
    "    #return [word for word in mecab.nouns(doc) if word not in SW and len(word) > 1]"
   ]
  },
  {
   "cell_type": "markdown",
   "metadata": {},
   "source": [
    "* 불러온 데이터를 품사 태그를 붙여서 토크나이징합니다."
   ]
  },
  {
   "cell_type": "code",
   "execution_count": 4,
   "metadata": {},
   "outputs": [
    {
     "name": "stdout",
     "output_type": "stream",
     "text": [
      "[['진짜', '짜증', '네요', '목소리'], '0']\n",
      "[['GDNTOPCLASSINTHECLUB'], '0']\n"
     ]
    }
   ],
   "source": [
    "from konlpy.tag import Mecab\n",
    "from konlpy.tag import Okt\n",
    "import json\n",
    "import os\n",
    "import re\n",
    "from pprint import pprint\n",
    "\n",
    "okt = Okt()\n",
    "mecab = Mecab(dicpath='C:\\mecab\\mecab-ko-dic')\n",
    "\n",
    "SW = define_stopwords(\"stopwords-ko.txt\")\n",
    "\n",
    "if os.path.exists('train_docs.json'):\n",
    "    with open(\"train_docs.json\", encoding='utf-8') as f:\n",
    "        train_data = json.load(f)\n",
    "else:\n",
    "    train_data = [(text_tokenizing(text_cleaning(line[1])), line[2]) for line in train_docs if text_tokenizing(line[1])]\n",
    "    #train_data = [(text_tokenizing(line[1]), line[2]) for line in train_docs if text_tokenizing(line[1])]\n",
    "    \n",
    "    with open(\"train_docs.json\", 'w', encoding='utf-8') as f:\n",
    "        json.dump(train_data, f, ensure_ascii=False, indent='\\t')\n",
    "        \n",
    "if os.path.exists('test_docs.json'):\n",
    "    with open(\"test_docs.json\", encoding='utf-8') as f:\n",
    "        test_data = json.load(f)\n",
    "else:\n",
    "    test_data = [(text_tokenizing(text_cleaning(line[1])), line[2]) for line in test_docs if text_tokenizing(line[1])]\n",
    "    #test_data = [(text_tokenizing(line[1]), line[2]) for line in test_docs if text_tokenizing(line[1])]\n",
    "    with open(\"test_docs.json\", 'w', encoding='utf-8') as f:\n",
    "        json.dump(test_data, f, ensure_ascii=False, indent='\\t')\n",
    "\n",
    "pprint(train_data[0])\n",
    "pprint(test_data[0])"
   ]
  },
  {
   "cell_type": "code",
   "execution_count": 5,
   "metadata": {},
   "outputs": [
    {
     "name": "stdout",
     "output_type": "stream",
     "text": [
      "[[['진짜', '짜증', '네요', '목소리'], '0'], [['..', '포스터', '보고', '초딩', '영화', '...', '오버', '연기', '조차', '가볍', '구나'], '1'], [['너무', '밓었다그래서보는것을추천한다'], '0']]\n"
     ]
    }
   ],
   "source": [
    "print(train_data[:3])"
   ]
  },
  {
   "cell_type": "markdown",
   "metadata": {},
   "source": [
    "* 데이터 분석을 하기 위해 기본적인 정보들을 확인합니다.\n",
    "\n",
    "* nltk 라이브러리를 이용하여 전처리를 합니다."
   ]
  },
  {
   "cell_type": "code",
   "execution_count": 6,
   "metadata": {},
   "outputs": [
    {
     "name": "stdout",
     "output_type": "stream",
     "text": [
      "1206841\n"
     ]
    }
   ],
   "source": [
    "import nltk\n",
    "\n",
    "total_tokens = [token for doc in train_data for token in doc[0]]\n",
    "print(len(total_tokens))"
   ]
  },
  {
   "cell_type": "code",
   "execution_count": 7,
   "metadata": {},
   "outputs": [
    {
     "name": "stdout",
     "output_type": "stream",
     "text": [
      "51722\n",
      "[('영화', 57614),\n",
      " ('..', 22813),\n",
      " ('는데', 11543),\n",
      " ('너무', 11002),\n",
      " ('정말', 9783),\n",
      " ('으로', 9322),\n",
      " ('네요', 9053),\n",
      " ('재밌', 9022),\n",
      " ('지만', 8366),\n",
      " ('진짜', 8326)]\n"
     ]
    }
   ],
   "source": [
    "text = nltk.Text(total_tokens, name='NMSC')\n",
    "print(len(set(text.tokens)))\n",
    "pprint(text.vocab().most_common(10))"
   ]
  },
  {
   "cell_type": "code",
   "execution_count": 8,
   "metadata": {},
   "outputs": [
    {
     "data": {
      "image/png": "[encoded data removed]",
      "text/plain": [
       "<Figure size 1152x720 with 1 Axes>"
      ]
     },
     "metadata": {
      "needs_background": "light"
     },
     "output_type": "display_data"
    }
   ],
   "source": [
    "import matplotlib.pyplot as plt\n",
    "import platform\n",
    "from matplotlib import font_manager, rc\n",
    "%matplotlib inline\n",
    "\n",
    "path = \"c:/Windows/Fonts/malgun.ttf\"\n",
    "if platform.system() == 'Darwin':\n",
    "    rc('font', family='AppleGothic')\n",
    "elif platform.system() == 'Windows':\n",
    "    font_name = font_manager.FontProperties(fname=path).get_name()\n",
    "    rc('font', family=font_name)\n",
    "else:\n",
    "    print('Unknown system... sorry~~~~')\n",
    "\n",
    "plt.figure(figsize=(16, 10))\n",
    "text.plot(50)"
   ]
  },
  {
   "cell_type": "code",
   "execution_count": 9,
   "metadata": {},
   "outputs": [],
   "source": [
    "# 여러 리스트들을 하나로 묶어 주는 함수입니다.\n",
    "def list_to_str(List): \n",
    "    return \" \".join(List)"
   ]
  },
  {
   "cell_type": "markdown",
   "metadata": {},
   "source": [
    "### 4. Linear Classifier와 Support Vector Machine으로 nsmc 분류하기"
   ]
  },
  {
   "cell_type": "code",
   "execution_count": null,
   "metadata": {},
   "outputs": [
    {
     "name": "stdout",
     "output_type": "stream",
     "text": [
      "For 148051 train data\n"
     ]
    }
   ],
   "source": [
    "from sklearn.pipeline import Pipeline\n",
    "#파이프라인 개념 => 데이터 수집부터 전처리,학습 모델 배포,예측까지 전과정을 순차적으로 처리하도록 설계된 머신러닝 아키텍처\n",
    "from sklearn.feature_extraction.text import CountVectorizer\n",
    "# 단어 카운트 (countvectorizer)는 오직 띄어쓰기만을 기준으로 단어를 자른 후에 Bow를 만든다는 점\n",
    "from sklearn.linear_model import SGDClassifier \n",
    "# SGD (Stochastic Gradient descent, 확률적 경사 하강법)\n",
    "from sklearn.svm import SVC\n",
    "#Support Vector Machine(svm)은 데이터 분석 중 분류에 이용되며 지도학습 방식의 모델\n",
    "# SVM은 선형 분류와 비선형 분류를 지원한다.그 중 선형 모델을 위해 kernel을 linear로 지정함\n",
    "# 비선형에 대한 kernel로는 rbf와 poly가 있다\n",
    "#clf = svm.SVC(kernel='linear')\n",
    "\n",
    "\n",
    "from sklearn.naive_bayes import MultinomialNB\n",
    "# 나이브 베이즈 분류는 지도학습의 일종, Feature와 Label이 필요하다\n",
    "#Feature에 따라 Label을 분류하는데 베이즈 정리를 사용하는 것이 특징입니다. 또한 모든 Feature가 서로 독립(independent)이어야 한다는 가정이 필요합니다.\n",
    "# 참고 -https://bkshin.tistory.com/entry/%EB%A8%B8%EC%8B%A0%EB%9F%AC%EB%8B%9D-1%EB%82%98%EC%9D%B4%EB%B8%8C-%EB%B2%A0%EC%9D%B4%EC%A6%88-%EB%B6%84%EB%A5%98-Naive-Bayes-Classification\n",
    "import numpy as np\n",
    "\n",
    "train_x = [list_to_str(doc) for doc, _ in train_data]\n",
    "test_x = [list_to_str(doc) for doc, _ in test_data]\n",
    "train_y = [label for _, label in train_data]\n",
    "test_y = [label for _, label in test_data]\n",
    "\n",
    "#print(len(train_x), len(train_y))\n",
    "print(\"For %d train data\" % len(train_x))\n",
    "#print(len(test_x), len(test_y))\n",
    "\n",
    "learner = Pipeline([\n",
    "    ('vect', CountVectorizer()),\n",
    "    ('clf', SGDClassifier(loss='perceptron', penalty='l2',\n",
    "                         alpha=1e-4, random_state=42,\n",
    "                         max_iter=100))\n",
    "])\n",
    "\n",
    "learner2 = Pipeline([\n",
    "    ('vect', CountVectorizer()),\n",
    "    ('clf', SVC(kernel='linear'))\n",
    "    \n",
    "])\n",
    "\n",
    "learner3 = Pipeline([\n",
    "    ('vect', CountVectorizer()),\n",
    "    ('clf', SVC(kernel='poly', degree=8))\n",
    "])\n",
    "\n",
    "learner4 = Pipeline([\n",
    "    ('vect', CountVectorizer()),\n",
    "    ('clf', SVC(kernel='rbf'))\n",
    "])\n",
    "\n",
    "learner5 = Pipeline([\n",
    "    ('vect', CountVectorizer()),\n",
    "    ('clf', SVC(kernel='sigmoid'))\n",
    "])\n",
    "\n",
    "learner6 = Pipeline([\n",
    "    ('vect', CountVectorizer()),\n",
    "    ('mb', MultinomialNB())\n",
    "])\n",
    "\n",
    "classifier = learner2\n",
    "\n",
    "\n",
    "classifier.fit(train_x, train_y)\n",
    "train_predict = classifier.predict(train_x)\n",
    "train_accuracy = np.mean(train_predict == train_y)\n",
    "\n",
    "test_predict = classifier.predict(test_x)\n",
    "test_accuracy = np.mean(test_predict == test_y)\n",
    "\n",
    "\n",
    "print(\"For %d test data\" % len(test_x))\n",
    "\n",
    "print(\"Training Accuracy : %.2f\" % train_accuracy)\n",
    "print(\"Test Accuracy : %.2f\" % test_accuracy)"
   ]
  },
  {
   "cell_type": "markdown",
   "metadata": {},
   "source": [
    "### < 실험결과 >\n",
    "\n",
    "#### Linear Classifier 학습하여, test accuracy를 측정. (learner)\n",
    "\n",
    "1. 명사만 추출 : 0.51\n",
    "2. 전처리 하지 않고 형태소 분석 : 0.67\n",
    "3. 전처리 하고 형태소 분석 : 0.71\n",
    "\n",
    "-----여기까진 top 500 features만 사용--------\n",
    "4. 3 + 모든 feature : 0.76"
   ]
  },
  {
   "cell_type": "markdown",
   "metadata": {},
   "source": [
    "### < 실험결과 >\n",
    "\n",
    "#### SVM Classifier 학습하여, test accuracy를 측정. (learner2)\n",
    "\n",
    "1. 명사만 추출 : 0.53\n",
    "2. 전처리 하지 않고 형태소 분석 : 0.72\n",
    "3. 전처리 하고 형태소 분석 : 0.77\n",
    "\n",
    "-----여기까진 top 500 features만 사용--------\n",
    "4. 3 + 모든 feature : 0.81"
   ]
  },
  {
   "cell_type": "code",
   "execution_count": null,
   "metadata": {},
   "outputs": [],
   "source": []
  }
 ],
 "metadata": {
  "kernelspec": {
   "display_name": "Python [conda env:text_analysis]",
   "language": "python",
   "name": "conda-env-text_analysis-py"
  },
  "language_info": {
   "codemirror_mode": {
    "name": "ipython",
    "version": 3
   },
   "file_extension": ".py",
   "mimetype": "text/x-python",
   "name": "python",
   "nbconvert_exporter": "python",
   "pygments_lexer": "ipython3",
   "version": "3.6.13"
  },
  "toc": {
   "base_numbering": 1,
   "nav_menu": {},
   "number_sections": true,
   "sideBar": true,
   "skip_h1_title": false,
   "title_cell": "Table of Contents",
   "title_sidebar": "Contents",
   "toc_cell": false,
   "toc_position": {},
   "toc_section_display": true,
   "toc_window_display": false
  }
 },
 "nbformat": 4,
 "nbformat_minor": 2
}
