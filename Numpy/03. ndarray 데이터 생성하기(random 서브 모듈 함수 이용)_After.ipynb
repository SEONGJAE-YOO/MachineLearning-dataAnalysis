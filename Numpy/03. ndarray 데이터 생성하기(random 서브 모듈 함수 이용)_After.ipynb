{
 "cells": [
  {
   "cell_type": "markdown",
   "metadata": {},
   "source": [
    "### 학습목표\n",
    " - random 서브모듈 함수를 통해 ndarray 생성하기"
   ]
  },
  {
   "cell_type": "code",
   "execution_count": 1,
   "metadata": {},
   "outputs": [],
   "source": [
    "import numpy as np"
   ]
  },
  {
   "cell_type": "markdown",
   "metadata": {},
   "source": [
    "#### random 서브모듈"
   ]
  },
  {
   "cell_type": "markdown",
   "metadata": {},
   "source": [
    "#### rand 함수\n",
    " - 0, 1사이의 분포로 랜덤한 ndarray 생성"
   ]
  },
  {
   "cell_type": "code",
   "execution_count": 2,
   "metadata": {},
   "outputs": [
    {
     "data": {
      "text/plain": [
       "array([[[0.33521405, 0.67032435, 0.95210159],\n",
       "        [0.10189175, 0.18462676, 0.68322972],\n",
       "        [0.75113847, 0.03295967, 0.61166786],\n",
       "        [0.10883094, 0.93890401, 0.76204511],\n",
       "        [0.57901197, 0.73072683, 0.08797744]],\n",
       "\n",
       "       [[0.70088029, 0.58841604, 0.46029039],\n",
       "        [0.61576024, 0.90705251, 0.97710094],\n",
       "        [0.49384285, 0.59526405, 0.87046264],\n",
       "        [0.38226599, 0.22740642, 0.6362327 ],\n",
       "        [0.10066368, 0.8231694 , 0.92015193]],\n",
       "\n",
       "       [[0.97867636, 0.59106034, 0.82802595],\n",
       "        [0.17190385, 0.29713434, 0.59724309],\n",
       "        [0.21062594, 0.79539057, 0.3871071 ],\n",
       "        [0.27762405, 0.50572248, 0.39445679],\n",
       "        [0.4893706 , 0.50637938, 0.39238774]],\n",
       "\n",
       "       [[0.6533879 , 0.351156  , 0.13421354],\n",
       "        [0.83289202, 0.76284595, 0.76582552],\n",
       "        [0.97809253, 0.14329686, 0.04583578],\n",
       "        [0.33741319, 0.3678568 , 0.58969611],\n",
       "        [0.41732719, 0.87047335, 0.30592573]]])"
      ]
     },
     "execution_count": 2,
     "metadata": {},
     "output_type": "execute_result"
    }
   ],
   "source": [
    "np.random.rand(4, 5, 3)"
   ]
  },
  {
   "cell_type": "markdown",
   "metadata": {},
   "source": [
    "#### randn함수\n",
    " - n: normal distribution(정규분포)\n",
    " - 정규분포로 샘플링된 랜덤 ndarray 생성"
   ]
  },
  {
   "cell_type": "code",
   "execution_count": 3,
   "metadata": {},
   "outputs": [
    {
     "data": {
      "text/plain": [
       "array([ 0.35313179,  0.51184094, -0.34175882,  1.41598275, -0.49429069])"
      ]
     },
     "execution_count": 3,
     "metadata": {},
     "output_type": "execute_result"
    }
   ],
   "source": [
    "np.random.randn(5)"
   ]
  },
  {
   "cell_type": "code",
   "execution_count": 4,
   "metadata": {},
   "outputs": [
    {
     "data": {
      "text/plain": [
       "array([[[ 0.18051065, -0.23327228],\n",
       "        [-0.9665297 , -0.75642021],\n",
       "        [-0.11424347,  1.09038174],\n",
       "        [-1.35937881, -0.7295231 ]],\n",
       "\n",
       "       [[ 0.45731576, -0.14717469],\n",
       "        [ 0.65136006,  1.06994426],\n",
       "        [-0.1809659 , -0.984676  ],\n",
       "        [ 1.75613071, -0.84801614]],\n",
       "\n",
       "       [[-0.5859222 , -1.21304495],\n",
       "        [-0.03862134,  2.10877663],\n",
       "        [-0.28770843,  2.22195802],\n",
       "        [ 3.49531891,  0.27530504]]])"
      ]
     },
     "execution_count": 4,
     "metadata": {},
     "output_type": "execute_result"
    }
   ],
   "source": [
    "np.random.randn(3, 4, 2) #정규분포이기 때문에 음수도 가짐"
   ]
  },
  {
   "cell_type": "markdown",
   "metadata": {},
   "source": [
    "#### randint 함수\n",
    " - 특정 정수 사이에서 랜덤하게 샘플링"
   ]
  },
  {
   "cell_type": "code",
   "execution_count": 5,
   "metadata": {},
   "outputs": [
    {
     "data": {
      "text/plain": [
       "array([84, 93, 88,  3, 96])"
      ]
     },
     "execution_count": 5,
     "metadata": {},
     "output_type": "execute_result"
    }
   ],
   "source": [
    "np.random.randint(1, 100, size=(5,))"
   ]
  },
  {
   "cell_type": "code",
   "execution_count": 8,
   "metadata": {},
   "outputs": [
    {
     "data": {
      "text/plain": [
       "array([[[1, 2, 7],\n",
       "        [8, 9, 4],\n",
       "        [1, 3, 8]],\n",
       "\n",
       "       [[8, 8, 2],\n",
       "        [1, 2, 1],\n",
       "        [9, 5, 7]],\n",
       "\n",
       "       [[7, 6, 1],\n",
       "        [5, 4, 4],\n",
       "        [6, 7, 2]],\n",
       "\n",
       "       [[1, 8, 5],\n",
       "        [8, 4, 8],\n",
       "        [1, 2, 2]],\n",
       "\n",
       "       [[4, 4, 8],\n",
       "        [1, 8, 5],\n",
       "        [4, 2, 1]]])"
      ]
     },
     "execution_count": 8,
     "metadata": {},
     "output_type": "execute_result"
    }
   ],
   "source": [
    "np.random.randint(1,10, size =(5,3,3))"
   ]
  },
  {
   "cell_type": "markdown",
   "metadata": {},
   "source": [
    "#### seed 함수\n",
    " - 랜덤한 값을 동일하게 다시 생성하고자 할때 사용"
   ]
  },
  {
   "cell_type": "code",
   "execution_count": 24,
   "metadata": {},
   "outputs": [
    {
     "data": {
      "text/plain": [
       "array([[ 1.78862847,  0.43650985,  0.09649747, -1.8634927 ],\n",
       "       [-0.2773882 , -0.35475898, -0.08274148, -0.62700068],\n",
       "       [-0.04381817, -0.47721803, -1.31386475,  0.88462238]])"
      ]
     },
     "execution_count": 24,
     "metadata": {},
     "output_type": "execute_result"
    }
   ],
   "source": [
    "np.random.seed(3)\n",
    "np.random.randn(3, 4)"
   ]
  },
  {
   "cell_type": "markdown",
   "metadata": {},
   "source": [
    "#### choice\n",
    " - 주어진 1차원 ndarray로 부터 랜덤으로 샘플링\n",
    " - 정수가 주어진 경우, np.arange(해당숫자)로 간주"
   ]
  },
  {
   "cell_type": "code",
   "execution_count": 25,
   "metadata": {},
   "outputs": [
    {
     "data": {
      "text/plain": [
       "array([[22, 66,  2, 63],\n",
       "       [60,  1, 51, 90],\n",
       "       [69, 97, 29, 24]])"
      ]
     },
     "execution_count": 25,
     "metadata": {},
     "output_type": "execute_result"
    }
   ],
   "source": [
    "np.random.choice(100, size=(3, 4))"
   ]
  },
  {
   "cell_type": "code",
   "execution_count": 41,
   "metadata": {},
   "outputs": [
    {
     "data": {
      "text/plain": [
       "array([[2. , 3. ],\n",
       "       [4.9, 1.5]])"
      ]
     },
     "execution_count": 41,
     "metadata": {},
     "output_type": "execute_result"
    }
   ],
   "source": [
    "x = np.array([1, 2, 3, 1.5, 2.6, 4.9])\n",
    "np.random.choice(x, size=(2, 2), replace=False)"
   ]
  },
  {
   "cell_type": "markdown",
   "metadata": {},
   "source": [
    "#### 확률분포에 따른 ndarray 생성\n",
    " - uniform\n",
    " - normal 등등"
   ]
  },
  {
   "cell_type": "code",
   "execution_count": 42,
   "metadata": {},
   "outputs": [
    {
     "data": {
      "text/plain": [
       "array([[1.96489161, 1.05205254, 2.01114812, 2.83606004, 1.41393226],\n",
       "       [2.85146557, 1.55464609, 1.35212423, 2.98060237, 2.38530123],\n",
       "       [2.50428005, 1.23243317, 1.17200144, 2.33124922, 1.65914271],\n",
       "       [1.72330124, 2.052222  , 1.84945992, 2.63956146, 2.14256949]])"
      ]
     },
     "execution_count": 42,
     "metadata": {},
     "output_type": "execute_result"
    }
   ],
   "source": [
    "np.random.uniform(1.0, 3.0, size=(4, 5)) #2개의 숫자 사이의 랜덤 실수를 리턴합니다."
   ]
  },
  {
   "cell_type": "code",
   "execution_count": 43,
   "metadata": {},
   "outputs": [
    {
     "data": {
      "text/plain": [
       "array([[-0.13368054, -1.3610901 , -1.30022534,  0.01004113],\n",
       "       [-1.05368742, -0.91878414,  0.00852071,  1.01270555],\n",
       "       [-1.87120247,  0.85779193, -0.93330128,  0.26973425]])"
      ]
     },
     "execution_count": 43,
     "metadata": {},
     "output_type": "execute_result"
    }
   ],
   "source": [
    "np.random.normal(size=(3, 4)) # randn() 함수와 비슷하지만, 튜플을 인자로 받는다는 점에서 차이가 있습니다.\n",
    "np.random.randn(3, 4)"
   ]
  }
 ],
 "metadata": {
  "kernelspec": {
   "display_name": "Python 3",
   "language": "python",
   "name": "python3"
  },
  "language_info": {
   "codemirror_mode": {
    "name": "ipython",
    "version": 3
   },
   "file_extension": ".py",
   "mimetype": "text/x-python",
   "name": "python",
   "nbconvert_exporter": "python",
   "pygments_lexer": "ipython3",
   "version": "3.8.5"
  },
  "toc": {
   "base_numbering": 1,
   "nav_menu": {},
   "number_sections": true,
   "sideBar": true,
   "skip_h1_title": false,
   "title_cell": "Table of Contents",
   "title_sidebar": "Contents",
   "toc_cell": false,
   "toc_position": {},
   "toc_section_display": true,
   "toc_window_display": false
  }
 },
 "nbformat": 4,
 "nbformat_minor": 2
}
