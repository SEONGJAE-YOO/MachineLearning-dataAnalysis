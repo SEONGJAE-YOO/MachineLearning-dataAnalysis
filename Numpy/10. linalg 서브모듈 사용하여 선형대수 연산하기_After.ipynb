{
 "cells": [
  {
   "cell_type": "markdown",
   "metadata": {},
   "source": [
    "## 학습목표\n",
    " 1. linalg 서브모듈 함수 활용여 선형대수 연산하기"
   ]
  },
  {
   "cell_type": "code",
   "execution_count": 1,
   "metadata": {},
   "outputs": [],
   "source": [
    "import numpy as np"
   ]
  },
  {
   "cell_type": "markdown",
   "metadata": {},
   "source": [
    "#### np.linalg.inv\n",
    " - 역행렬을 구할 때 사용\n",
    " - 모든 차원의 값이 같아야 함"
   ]
  },
  {
   "cell_type": "code",
   "execution_count": 3,
   "metadata": {},
   "outputs": [
    {
     "name": "stdout",
     "output_type": "stream",
     "text": [
      "[[[0.05352363 0.90608624 0.20425633]\n",
      "  [0.91262925 0.57798162 0.83937425]\n",
      "  [0.19861169 0.62654011 0.49996077]]\n",
      "\n",
      " [[0.17922958 0.07939039 0.29449494]\n",
      "  [0.02407733 0.1720129  0.23787857]\n",
      "  [0.01963235 0.35015246 0.87659066]]\n",
      "\n",
      " [[0.67170632 0.18875835 0.51762355]\n",
      "  [0.30932696 0.21532975 0.11752322]\n",
      "  [0.46392822 0.83647661 0.64107955]]]\n"
     ]
    },
    {
     "data": {
      "text/plain": [
       "array([[[ 1.00000000e+00, -2.77555756e-17, -1.11022302e-16],\n",
       "        [ 0.00000000e+00,  1.00000000e+00,  0.00000000e+00],\n",
       "        [-2.22044605e-16, -5.55111512e-17,  1.00000000e+00]],\n",
       "\n",
       "       [[ 1.00000000e+00,  0.00000000e+00,  0.00000000e+00],\n",
       "        [-1.38777878e-17,  1.00000000e+00, -1.11022302e-16],\n",
       "        [-5.55111512e-17,  0.00000000e+00,  1.00000000e+00]],\n",
       "\n",
       "       [[ 1.00000000e+00,  0.00000000e+00,  0.00000000e+00],\n",
       "        [ 5.55111512e-17,  1.00000000e+00, -2.77555756e-17],\n",
       "        [ 0.00000000e+00,  4.44089210e-16,  1.00000000e+00]]])"
      ]
     },
     "execution_count": 3,
     "metadata": {},
     "output_type": "execute_result"
    }
   ],
   "source": [
    "x = np.random.rand(3, 3, 3)\n",
    "print(x)\n",
    "\n",
    "np.matmul(x, np.linalg.inv(x))\n",
    "x @ np.linalg.inv(x)"
   ]
  },
  {
   "cell_type": "markdown",
   "metadata": {},
   "source": [
    "#### np.linalg.solve\n",
    " - Ax = B 형태의 선형대수식 솔루션을 제공\n",
    " - 예제) 호랑이와 홍합의 합 : 25 호랑이 다리와 홍합 다리의 합은 64\n",
    "   - x + y = 25\n",
    "   - 2x + 4y = 64\n",
    "   \n",
    " $$\\begin{pmatrix} 1 & 1 \\\\ 2 & 4 \\end{pmatrix}\\begin{pmatrix} x \\\\ y \\end{pmatrix}= \\begin{pmatrix} 25 \\\\ 64 \\end{pmatrix}$$\n"
   ]
  },
  {
   "cell_type": "code",
   "execution_count": 4,
   "metadata": {},
   "outputs": [
    {
     "name": "stdout",
     "output_type": "stream",
     "text": [
      "[18.  7.]\n"
     ]
    },
    {
     "data": {
      "text/plain": [
       "True"
      ]
     },
     "execution_count": 4,
     "metadata": {},
     "output_type": "execute_result"
    }
   ],
   "source": [
    "A = np.array([[1, 1], [2, 4]])\n",
    "B = np.array([25, 64])\n",
    "\n",
    "x = np.linalg.solve(A, B)\n",
    "print(x)\n",
    "\n",
    "np.allclose(A@x, B)"
   ]
  }
 ],
 "metadata": {
  "kernelspec": {
   "display_name": "Python 3",
   "language": "python",
   "name": "python3"
  },
  "language_info": {
   "codemirror_mode": {
    "name": "ipython",
    "version": 3
   },
   "file_extension": ".py",
   "mimetype": "text/x-python",
   "name": "python",
   "nbconvert_exporter": "python",
   "pygments_lexer": "ipython3",
   "version": "3.8.5"
  },
  "toc": {
   "base_numbering": 1,
   "nav_menu": {},
   "number_sections": true,
   "sideBar": true,
   "skip_h1_title": false,
   "title_cell": "Table of Contents",
   "title_sidebar": "Contents",
   "toc_cell": false,
   "toc_position": {},
   "toc_section_display": true,
   "toc_window_display": false
  }
 },
 "nbformat": 4,
 "nbformat_minor": 1
}
