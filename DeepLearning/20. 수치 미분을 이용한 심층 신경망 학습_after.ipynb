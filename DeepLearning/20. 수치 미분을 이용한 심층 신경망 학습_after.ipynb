{
 "cells": [
  {
   "cell_type": "markdown",
   "metadata": {},
   "source": [
    "## 수치 미분을 이용한 심층 신경망 학습"
   ]
  },
  {
   "cell_type": "markdown",
   "metadata": {},
   "source": [
    "## Import modules"
   ]
  },
  {
   "cell_type": "code",
   "execution_count": 5,
   "metadata": {},
   "outputs": [],
   "source": [
    "import time\n",
    "import numpy as np"
   ]
  },
  {
   "cell_type": "markdown",
   "metadata": {},
   "source": [
    "## 유틸리티 함수"
   ]
  },
  {
   "cell_type": "code",
   "execution_count": 6,
   "metadata": {},
   "outputs": [],
   "source": [
    "epsilon = 0.0001\n",
    "\n",
    "def _t(x):\n",
    "    return np.transpose(x)\n",
    "\n",
    "def _m(A, B):\n",
    "    return np.matmul(A, B)\n",
    "\n",
    "def sigmoid(x):\n",
    "    return 1 / (1 + np.exp(-x))\n",
    "\n",
    "def mean_squared_error(h, y):\n",
    "    return 1 / 2 * np.mean(np.square(h - y))"
   ]
  },
  {
   "cell_type": "markdown",
   "metadata": {},
   "source": [
    "## Dense Layer 구현"
   ]
  },
  {
   "cell_type": "code",
   "execution_count": 7,
   "metadata": {},
   "outputs": [],
   "source": [
    "class Dense:\n",
    "    def __init__(self, W, b, a):\n",
    "        self.W = W\n",
    "        self.b = b\n",
    "        self.a = a\n",
    "        \n",
    "        self.dW = np.zeros_like(self.W) #미분 한거 저장\n",
    "        self.db = np.zeros_like(self.b)\n",
    "\n",
    "    def __call__(self, x): #activation 함수 사용\n",
    "        return self.a(_m(_t(self.W), x) + self.b)   # matmul((ixo)T,ix1) + ox1"
   ]
  },
  {
   "cell_type": "markdown",
   "metadata": {},
   "source": [
    "## 심층신경망 구현"
   ]
  },
  {
   "cell_type": "code",
   "execution_count": 8,
   "metadata": {},
   "outputs": [],
   "source": [
    "class DNN:\n",
    "    def __init__(self, hidden_depth, num_neuron, num_input, num_output, activation=sigmoid):\n",
    "        def init_var(i, o):\n",
    "            return np.random.normal(0.0, 0.01, (i, o)), np.zeros((o,))\n",
    "\n",
    "        self.sequence = list()\n",
    "        # First hidden layer\n",
    "        W, b = init_var(num_input, num_neuron)\n",
    "        self.sequence.append(Dense(W, b, activation))\n",
    "        \n",
    "        # Hidden layers\n",
    "        for _ in range(hidden_depth - 1):\n",
    "            W, b = init_var(num_neuron, num_neuron)\n",
    "            self.sequence.append(Dense(W, b, activation))\n",
    "\n",
    "        # Output layer\n",
    "        W, b = init_var(num_neuron, num_output)\n",
    "        self.sequence.append(Dense(W, b, activation))\n",
    "\n",
    "    def __call__(self, x):\n",
    "        for layer in self.sequence:\n",
    "            x = layer(x)\n",
    "        return x\n",
    "\n",
    "    def calc_gradient(self, x, y, loss_func):\n",
    "        def get_new_sequence(layer_index, new_layer):\n",
    "            new_sequence = list()\n",
    "            for i, layer in enumerate(self.sequence):\n",
    "                if i == layer_index:\n",
    "                    new_sequence.append(new_layer)\n",
    "                else:\n",
    "                    new_sequence.append(layer)\n",
    "            return new_sequence\n",
    "        \n",
    "        def eval_sequence(x, sequence):\n",
    "            for layer in sequence:\n",
    "                x = layer(x)\n",
    "            return x\n",
    "        \n",
    "        loss = loss_func(self(x), y)\n",
    "        \n",
    "        for layer_id, layer in enumerate(self.sequence):\n",
    "            for w_i, w in enumerate(layer.W):\n",
    "                for w_j, ww in enumerate(w):\n",
    "                    W = np.copy(layer.W)\n",
    "                    W[w_i][w_j] = ww + epsilon\n",
    "                    \n",
    "                    new_layer = Dense(W, layer.b, layer.a)\n",
    "                    new_seq = get_new_sequence(layer_id, new_layer)\n",
    "                    h = eval_sequence(x, new_seq)\n",
    "                    \n",
    "                    num_grad = (loss_func(h, y) - loss) / epsilon # (f(x+eps) - f(x)) / eps\n",
    "                    layer.dW[w_i][w_j] = num_grad\n",
    "                    \n",
    "            for b_i, bb in enumerate(layer.b):\n",
    "                b = np.copy(layer.b)\n",
    "                b[b_i] = bb + epsilon\n",
    "\n",
    "                new_layer = Dense(layer.W, b, layer.a)\n",
    "                new_seq = get_new_sequence(layer_id, new_layer)\n",
    "                h = eval_sequence(x, new_seq)\n",
    "\n",
    "                num_grad = (loss_func(h, y) - loss) / epsilon # (f(x+eps) - f(x)) / eps\n",
    "                layer.db[b_i] = num_grad\n",
    "        \n",
    "        return loss\n"
   ]
  },
  {
   "cell_type": "markdown",
   "metadata": {},
   "source": [
    "## 경사하강 학습법"
   ]
  },
  {
   "cell_type": "code",
   "execution_count": 9,
   "metadata": {},
   "outputs": [],
   "source": [
    "def gradient_descent(network, x, y, loss_obj, alpha=0.01):\n",
    "    loss = network.calc_gradient(x, y, loss_obj)\n",
    "    for layer in network.sequence:\n",
    "        layer.W += -alpha * layer.dW\n",
    "        layer.b += -alpha * layer.db\n",
    "    return loss"
   ]
  },
  {
   "cell_type": "markdown",
   "metadata": {},
   "source": [
    "## 동작 테스트"
   ]
  },
  {
   "cell_type": "code",
   "execution_count": 10,
   "metadata": {
    "scrolled": true
   },
   "outputs": [
    {
     "name": "stdout",
     "output_type": "stream",
     "text": [
      "Epoch 0: Test loss 0.6216608586434753\n",
      "Epoch 1: Test loss 0.6181506446451046\n",
      "Epoch 2: Test loss 0.6146616982751774\n",
      "Epoch 3: Test loss 0.611194398207067\n",
      "Epoch 4: Test loss 0.6077491065310983\n",
      "Epoch 5: Test loss 0.6043261687463732\n",
      "Epoch 6: Test loss 0.6009259137787213\n",
      "Epoch 7: Test loss 0.5975486540233889\n",
      "Epoch 8: Test loss 0.5941946854118719\n",
      "Epoch 9: Test loss 0.5908642875023387\n",
      "Epoch 10: Test loss 0.5875577235918676\n",
      "Epoch 11: Test loss 0.5842752408505163\n",
      "Epoch 12: Test loss 0.5810170704750903\n",
      "Epoch 13: Test loss 0.5777834278628518\n",
      "Epoch 14: Test loss 0.5745745128030215\n",
      "Epoch 15: Test loss 0.5713905096854733\n",
      "Epoch 16: Test loss 0.5682315877258998\n",
      "Epoch 17: Test loss 0.5650979012057156\n",
      "Epoch 18: Test loss 0.561989589725788\n",
      "Epoch 19: Test loss 0.5589067784735497\n",
      "Epoch 20: Test loss 0.5558495785015376\n",
      "Epoch 21: Test loss 0.5528180870169312\n",
      "Epoch 22: Test loss 0.5498123876808194\n",
      "Epoch 23: Test loss 0.5468325509162607\n",
      "Epoch 24: Test loss 0.5438786342240736\n",
      "Epoch 25: Test loss 0.5409506825055678\n",
      "Epoch 26: Test loss 0.5380487283908865\n",
      "Epoch 27: Test loss 0.5351727925726935\n",
      "Epoch 28: Test loss 0.5323228841436971\n",
      "Epoch 29: Test loss 0.5294990009374586\n",
      "Epoch 30: Test loss 0.526701129871731\n",
      "Epoch 31: Test loss 0.5239292472933819\n",
      "Epoch 32: Test loss 0.5211833193241615\n",
      "Epoch 33: Test loss 0.518463302206865\n",
      "Epoch 34: Test loss 0.515769142650919\n",
      "Epoch 35: Test loss 0.5131007781768471\n",
      "Epoch 36: Test loss 0.5104581374591219\n",
      "Epoch 37: Test loss 0.5078411406664928\n",
      "Epoch 38: Test loss 0.5052496998000172\n",
      "Epoch 39: Test loss 0.5026837190272787\n",
      "Epoch 40: Test loss 0.5001430950132357\n",
      "Epoch 41: Test loss 0.4976277172467295\n",
      "Epoch 42: Test loss 0.4951374683624546\n",
      "Epoch 43: Test loss 0.49267222445807507\n",
      "Epoch 44: Test loss 0.49023185540607195\n",
      "Epoch 45: Test loss 0.4878162251600851\n",
      "Epoch 46: Test loss 0.48542519205546864\n",
      "Epoch 47: Test loss 0.48305860910376297\n",
      "Epoch 48: Test loss 0.4807163242810112\n",
      "Epoch 49: Test loss 0.478398180809686\n",
      "Epoch 50: Test loss 0.47610401743388303\n",
      "Epoch 51: Test loss 0.4738336686880383\n",
      "Epoch 52: Test loss 0.47158696515871223\n",
      "Epoch 53: Test loss 0.46936373373945695\n",
      "Epoch 54: Test loss 0.46716379787888374\n",
      "Epoch 55: Test loss 0.46498697782152826\n",
      "Epoch 56: Test loss 0.4628330908418433\n",
      "Epoch 57: Test loss 0.4607019514710776\n",
      "Epoch 58: Test loss 0.45859337171712494\n",
      "Epoch 59: Test loss 0.4565071612774198\n",
      "Epoch 60: Test loss 0.45444312774475226\n",
      "Epoch 61: Test loss 0.4524010768063078\n",
      "Epoch 62: Test loss 0.4503808124356249\n",
      "Epoch 63: Test loss 0.44838213707793184\n",
      "Epoch 64: Test loss 0.44640485182870676\n",
      "Epoch 65: Test loss 0.4444487566055624\n",
      "Epoch 66: Test loss 0.44251365031365486\n",
      "Epoch 67: Test loss 0.4405993310046612\n",
      "Epoch 68: Test loss 0.43870559602935943\n",
      "Epoch 69: Test loss 0.4368322421840901\n",
      "Epoch 70: Test loss 0.4349790658511013\n",
      "Epoch 71: Test loss 0.43314586313298986\n",
      "Epoch 72: Test loss 0.4313324299812078\n",
      "Epoch 73: Test loss 0.42953856231900006\n",
      "Epoch 74: Test loss 0.42776405615871815\n",
      "Epoch 75: Test loss 0.42600870771369825\n",
      "Epoch 76: Test loss 0.424272313504942\n",
      "Epoch 77: Test loss 0.4225546704626061\n",
      "Epoch 78: Test loss 0.42085557602249585\n",
      "Epoch 79: Test loss 0.4191748282177062\n",
      "Epoch 80: Test loss 0.41751222576560787\n",
      "Epoch 81: Test loss 0.41586756815013326\n",
      "Epoch 82: Test loss 0.41424065569981894\n",
      "Epoch 83: Test loss 0.41263128966140794\n",
      "Epoch 84: Test loss 0.41103927226935094\n",
      "Epoch 85: Test loss 0.4094644068112949\n",
      "Epoch 86: Test loss 0.4079064976897348\n",
      "Epoch 87: Test loss 0.40636535047984224\n",
      "Epoch 88: Test loss 0.4048407719837318\n",
      "Epoch 89: Test loss 0.40333257028128777\n",
      "Epoch 90: Test loss 0.40184055477751135\n",
      "Epoch 91: Test loss 0.40036453624678964\n",
      "Epoch 92: Test loss 0.39890432687389066\n",
      "Epoch 93: Test loss 0.39745974029218434\n",
      "Epoch 94: Test loss 0.3960305916187712\n",
      "Epoch 95: Test loss 0.394616697486991\n",
      "Epoch 96: Test loss 0.3932178760762752\n",
      "Epoch 97: Test loss 0.39183394713941044\n",
      "Epoch 98: Test loss 0.3904647320273955\n",
      "Epoch 99: Test loss 0.38911005371200735\n",
      "31.58939552307129 seconds elapsed.\n"
     ]
    }
   ],
   "source": [
    "x = np.random.normal(0.0, 1.0, (10,))\n",
    "y = np.random.normal(0.0, 1.0, (2,))\n",
    "\n",
    "dnn = DNN(hidden_depth=5, num_neuron=32, num_input=10, num_output=2, activation=sigmoid)\n",
    "\n",
    "t = time.time()\n",
    "for epoch in range(100):\n",
    "    loss = gradient_descent(dnn, x, y, mean_squared_error, 0.01)\n",
    "    print('Epoch {}: Test loss {}'.format(epoch, loss))\n",
    "print('{} seconds elapsed.'.format(time.time() - t))"
   ]
  }
 ],
 "metadata": {
  "kernelspec": {
   "display_name": "Python 3",
   "language": "python",
   "name": "python3"
  },
  "language_info": {
   "codemirror_mode": {
    "name": "ipython",
    "version": 3
   },
   "file_extension": ".py",
   "mimetype": "text/x-python",
   "name": "python",
   "nbconvert_exporter": "python",
   "pygments_lexer": "ipython3",
   "version": "3.8.5"
  },
  "toc": {
   "base_numbering": 1,
   "nav_menu": {},
   "number_sections": true,
   "sideBar": true,
   "skip_h1_title": false,
   "title_cell": "Table of Contents",
   "title_sidebar": "Contents",
   "toc_cell": false,
   "toc_position": {},
   "toc_section_display": true,
   "toc_window_display": false
  }
 },
 "nbformat": 4,
 "nbformat_minor": 2
}
