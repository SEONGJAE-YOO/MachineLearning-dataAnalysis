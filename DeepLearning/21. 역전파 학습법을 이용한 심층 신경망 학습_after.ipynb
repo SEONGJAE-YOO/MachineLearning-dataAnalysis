{
 "cells": [
  {
   "cell_type": "markdown",
   "metadata": {},
   "source": [
    "## 역전파 학습법을 이용한 심층 신경망 학습"
   ]
  },
  {
   "cell_type": "markdown",
   "metadata": {},
   "source": [
    "## Import modules"
   ]
  },
  {
   "cell_type": "code",
   "execution_count": 1,
   "metadata": {},
   "outputs": [],
   "source": [
    "import time\n",
    "import numpy as np"
   ]
  },
  {
   "cell_type": "markdown",
   "metadata": {},
   "source": [
    "## 유틸리티 함수"
   ]
  },
  {
   "cell_type": "code",
   "execution_count": 2,
   "metadata": {},
   "outputs": [],
   "source": [
    "def _t(x):\n",
    "    return np.transpose(x)\n",
    "\n",
    "def _m(A, B):\n",
    "    return np.matmul(A, B)"
   ]
  },
  {
   "cell_type": "markdown",
   "metadata": {},
   "source": [
    "## Sigmoid 구현"
   ]
  },
  {
   "cell_type": "markdown",
   "metadata": {},
   "source": [
    "- 시그모이드 함수는 Logistic 함수라 불리기도한다. 선형인 멀티퍼셉트론에서 비선형 값을 얻기 위해 사용하기 시작했다. 함수는 아래와 같이 구성된다."
   ]
  },
  {
   "cell_type": "code",
   "execution_count": 3,
   "metadata": {},
   "outputs": [],
   "source": [
    "class Sigmoid:\n",
    "    def __init__(self):\n",
    "        self.last_o = 1\n",
    "\n",
    "    def __call__(self, x):\n",
    "        self.last_o = 1.0 / (1.0 + np.exp(-x))\n",
    "        return self.last_o\n",
    "\n",
    "    def grad(self): # sigmoid(x)(1 - sigmoid(x))\n",
    "        return self.last_o * (1.0 - self.last_o)"
   ]
  },
  {
   "cell_type": "markdown",
   "metadata": {},
   "source": [
    "## Mean Squared Error 구현"
   ]
  },
  {
   "cell_type": "code",
   "execution_count": 4,
   "metadata": {},
   "outputs": [],
   "source": [
    "class MeanSquaredError: # 1/2 * mean((h - y)^2)  --> h - y\n",
    "    def __init__(self):\n",
    "        self.dh = 1\n",
    "        self.last_diff = 1\n",
    "\n",
    "    def __call__(self, h, y):\n",
    "        self.last_diff = h - y\n",
    "        return 1 / 2 * np.mean(np.square(self.last_diff))\n",
    "\n",
    "    def grad(self):\n",
    "        return self.last_diff"
   ]
  },
  {
   "cell_type": "markdown",
   "metadata": {},
   "source": [
    "## Dense Layer 구현"
   ]
  },
  {
   "cell_type": "code",
   "execution_count": 5,
   "metadata": {},
   "outputs": [],
   "source": [
    "class Dense:\n",
    "    def __init__(self, W, b, a_obj):\n",
    "        self.W = W\n",
    "        self.b = b\n",
    "        self.a = a_obj()\n",
    "        \n",
    "        self.dW = np.zeros_like(self.W)\n",
    "        self.db = np.zeros_like(self.b)\n",
    "        self.dh = np.zeros_like(_t(self.W))\n",
    "        \n",
    "        self.last_x = np.zeros((self.W.shape[0]))\n",
    "        self.last_h = np.zeros((self.W.shape[1]))\n",
    "        \n",
    "\n",
    "    def __call__(self, x):\n",
    "        self.last_x = x\n",
    "        self.last_h = _m(_t(self.W), x) + self.b\n",
    "        return self.a(self.last_h)\n",
    "\n",
    "    def grad(self): # dy/dh = W\n",
    "        return self.W * self.a.grad()\n",
    "\n",
    "    def grad_W(self, dh):\n",
    "        grad = np.ones_like(self.W)\n",
    "        grad_a = self.a.grad()\n",
    "        for j in range(grad.shape[1]): # dy/dw = x\n",
    "            grad[:, j] = dh[j] * grad_a[j] * self.last_x\n",
    "        return grad\n",
    "\n",
    "    def grad_b(self, dh): # dy/db = 1\n",
    "        return dh * self.a.grad()"
   ]
  },
  {
   "cell_type": "markdown",
   "metadata": {},
   "source": [
    "## 심층신경망 구현"
   ]
  },
  {
   "cell_type": "code",
   "execution_count": 6,
   "metadata": {},
   "outputs": [],
   "source": [
    "class DNN:\n",
    "    def __init__(self, hidden_depth, num_neuron, input, output, activation=Sigmoid):\n",
    "        def init_var(i, o):\n",
    "            return np.random.normal(0.0, 0.01, (i, o)), np.zeros((o,))\n",
    "\n",
    "        self.sequence = list()\n",
    "        # First hidden layer\n",
    "        W, b = init_var(input, num_neuron)\n",
    "        self.sequence.append(Dense(W, b, activation))\n",
    "\n",
    "        # Hidden Layers\n",
    "        for index in range(hidden_depth):\n",
    "            W, b = init_var(num_neuron, num_neuron)\n",
    "            self.sequence.append(Dense(W, b, activation))\n",
    "\n",
    "        # Output Layer\n",
    "        W, b = init_var(num_neuron, output)\n",
    "        self.sequence.append(Dense(W, b, activation))\n",
    "\n",
    "    def __call__(self, x):\n",
    "        for layer in self.sequence:\n",
    "            x = layer(x)\n",
    "        return x\n",
    "\n",
    "    def calc_gradient(self, loss_obj):\n",
    "        loss_obj.dh = loss_obj.grad()\n",
    "        self.sequence.append(loss_obj)\n",
    "        \n",
    "        # back-prop loop\n",
    "        for i in range(len(self.sequence) - 1, 0, -1):\n",
    "            l1 = self.sequence[i]\n",
    "            l0 = self.sequence[i - 1]\n",
    "            \n",
    "            l0.dh = _m(l0.grad(), l1.dh)\n",
    "            l0.dW = l0.grad_W(l1.dh)\n",
    "            l0.db = l0.grad_b(l1.dh)\n",
    "        \n",
    "        self.sequence.remove(loss_obj)"
   ]
  },
  {
   "cell_type": "markdown",
   "metadata": {},
   "source": [
    "## 경사하강 학습법"
   ]
  },
  {
   "cell_type": "code",
   "execution_count": 7,
   "metadata": {},
   "outputs": [],
   "source": [
    "def gradient_descent(network, x, y, loss_obj, alpha=0.01):\n",
    "    loss = loss_obj(network(x), y)  # Forward inference\n",
    "    network.calc_gradient(loss_obj)  # Back-propagation\n",
    "    for layer in network.sequence:\n",
    "        layer.W += -alpha * layer.dW\n",
    "        layer.b += -alpha * layer.db\n",
    "    return loss"
   ]
  },
  {
   "cell_type": "markdown",
   "metadata": {},
   "source": [
    "## 동작 테스트"
   ]
  },
  {
   "cell_type": "code",
   "execution_count": 8,
   "metadata": {},
   "outputs": [
    {
     "name": "stdout",
     "output_type": "stream",
     "text": [
      "Epoch 0: Test loss 0.6196238743925371\n",
      "Epoch 1: Test loss 0.61253130424193\n",
      "Epoch 2: Test loss 0.605531372611573\n",
      "Epoch 3: Test loss 0.5986294128291575\n",
      "Epoch 4: Test loss 0.5918302644365107\n",
      "Epoch 5: Test loss 0.5851382652570014\n",
      "Epoch 6: Test loss 0.5785572491446336\n",
      "Epoch 7: Test loss 0.5720905490378362\n",
      "Epoch 8: Test loss 0.5657410048626031\n",
      "Epoch 9: Test loss 0.5595109757714997\n",
      "Epoch 10: Test loss 0.5534023561668154\n",
      "Epoch 11: Test loss 0.5474165949366987\n",
      "Epoch 12: Test loss 0.5415547173307507\n",
      "Epoch 13: Test loss 0.5358173489140703\n",
      "Epoch 14: Test loss 0.5302047410637307\n",
      "Epoch 15: Test loss 0.5247167975065135\n",
      "Epoch 16: Test loss 0.5193531014389636\n",
      "Epoch 17: Test loss 0.5141129428179988\n",
      "Epoch 18: Test loss 0.5089953454602903\n",
      "Epoch 19: Test loss 0.503999093639502\n",
      "Epoch 20: Test loss 0.4991227579206508\n",
      "Epoch 21: Test loss 0.49436472001904086\n",
      "Epoch 22: Test loss 0.48972319651648105\n",
      "Epoch 23: Test loss 0.48519626130907795\n",
      "Epoch 24: Test loss 0.4807818666984135\n",
      "Epoch 25: Test loss 0.4764778630710919\n",
      "Epoch 26: Test loss 0.4722820171404696\n",
      "Epoch 27: Test loss 0.4681920287489154\n",
      "Epoch 28: Test loss 0.4642055462494325\n",
      "Epoch 29: Test loss 0.460320180502144\n",
      "Epoch 30: Test loss 0.45653351753436533\n",
      "Epoch 31: Test loss 0.45284312992309883\n",
      "Epoch 32: Test loss 0.449246586966161\n",
      "Epoch 33: Test loss 0.4457414637131538\n",
      "Epoch 34: Test loss 0.4423253489304769\n",
      "Epoch 35: Test loss 0.4389958520758588\n",
      "Epoch 36: Test loss 0.43575060935777693\n",
      "Epoch 37: Test loss 0.43258728895390425\n",
      "Epoch 38: Test loss 0.4295035954606054\n",
      "Epoch 39: Test loss 0.4264972736427086\n",
      "Epoch 40: Test loss 0.42356611154950546\n",
      "Epoch 41: Test loss 0.42070794305930304\n",
      "Epoch 42: Test loss 0.417920649911019\n",
      "Epoch 43: Test loss 0.4152021632773739\n",
      "Epoch 44: Test loss 0.4125504649302736\n",
      "Epoch 45: Test loss 0.4099635880450625\n",
      "Epoch 46: Test loss 0.40743961768651743\n",
      "Epoch 47: Test loss 0.40497669101577993\n",
      "Epoch 48: Test loss 0.4025729972539254\n",
      "Epoch 49: Test loss 0.4002267774345466\n",
      "Epoch 50: Test loss 0.39793632397462275\n",
      "Epoch 51: Test loss 0.39569998009003354\n",
      "Epoch 52: Test loss 0.39351613907938193\n",
      "Epoch 53: Test loss 0.3913832434972926\n",
      "Epoch 54: Test loss 0.38929978423606443\n",
      "Epoch 55: Test loss 0.3872642995324508\n",
      "Epoch 56: Test loss 0.3852753739144265\n",
      "Epoch 57: Test loss 0.3833316371010585\n",
      "Epoch 58: Test loss 0.3814317628670125\n",
      "Epoch 59: Test loss 0.379574467881807\n",
      "Epoch 60: Test loss 0.37775851053263015\n",
      "Epoch 61: Test loss 0.37598268973838667\n",
      "Epoch 62: Test loss 0.37424584376159964\n",
      "Epoch 63: Test loss 0.3725468490238677\n",
      "Epoch 64: Test loss 0.37088461892974756\n",
      "Epoch 65: Test loss 0.3692581027032047\n",
      "Epoch 66: Test loss 0.3676662842401102\n",
      "Epoch 67: Test loss 0.366108180979694\n",
      "Epoch 68: Test loss 0.36458284279735176\n",
      "Epoch 69: Test loss 0.36308935092074746\n",
      "Epoch 70: Test loss 0.3616268168707712\n",
      "Epoch 71: Test loss 0.3601943814285522\n",
      "Epoch 72: Test loss 0.3587912136294386\n",
      "Epoch 73: Test loss 0.3574165097845825\n",
      "Epoch 74: Test loss 0.356069492530549\n",
      "Epoch 75: Test loss 0.35474940990716886\n",
      "Epoch 76: Test loss 0.3534555344636854\n",
      "Epoch 77: Test loss 0.352187162393101\n",
      "Epoch 78: Test loss 0.35094361269451385\n",
      "Epoch 79: Test loss 0.34972422636311984\n",
      "Epoch 80: Test loss 0.3485283656074789\n",
      "Epoch 81: Test loss 0.34735541309357004\n",
      "Epoch 82: Test loss 0.34620477121509774\n",
      "Epoch 83: Test loss 0.34507586138947083\n",
      "Epoch 84: Test loss 0.3439681233788326\n",
      "Epoch 85: Test loss 0.3428810146354978\n",
      "Epoch 86: Test loss 0.3418140096711248\n",
      "Epoch 87: Test loss 0.3407665994489428\n",
      "Epoch 88: Test loss 0.33973829079834084\n",
      "Epoch 89: Test loss 0.3387286058511242\n",
      "Epoch 90: Test loss 0.33773708149874254\n",
      "Epoch 91: Test loss 0.3367632688697948\n",
      "Epoch 92: Test loss 0.33580673282713114\n",
      "Epoch 93: Test loss 0.3348670514838686\n",
      "Epoch 94: Test loss 0.33394381573765997\n",
      "Epoch 95: Test loss 0.3330366288225615\n",
      "Epoch 96: Test loss 0.3321451058778598\n",
      "Epoch 97: Test loss 0.33126887353323325\n",
      "Epoch 98: Test loss 0.330407569509646\n",
      "Epoch 99: Test loss 0.329560842235375\n",
      "0.1335439682006836 seconds elapsed.\n"
     ]
    }
   ],
   "source": [
    "x = np.random.normal(0.0, 1.0, (10,))\n",
    "y = np.random.normal(0.0, 1.0, (2,))\n",
    "\n",
    "t = time.time()\n",
    "dnn = DNN(hidden_depth=5, num_neuron=32, input=10, output=2, activation=Sigmoid)\n",
    "loss_obj = MeanSquaredError()\n",
    "for epoch in range(100):\n",
    "    loss = gradient_descent(dnn, x, y, loss_obj, alpha=0.01)\n",
    "    print('Epoch {}: Test loss {}'.format(epoch, loss))\n",
    "print('{} seconds elapsed.'.format(time.time() - t))"
   ]
  }
 ],
 "metadata": {
  "kernelspec": {
   "display_name": "Python 3",
   "language": "python",
   "name": "python3"
  },
  "language_info": {
   "codemirror_mode": {
    "name": "ipython",
    "version": 3
   },
   "file_extension": ".py",
   "mimetype": "text/x-python",
   "name": "python",
   "nbconvert_exporter": "python",
   "pygments_lexer": "ipython3",
   "version": "3.8.5"
  },
  "toc": {
   "base_numbering": 1,
   "nav_menu": {},
   "number_sections": true,
   "sideBar": true,
   "skip_h1_title": false,
   "title_cell": "Table of Contents",
   "title_sidebar": "Contents",
   "toc_cell": false,
   "toc_position": {},
   "toc_section_display": true,
   "toc_window_display": false
  }
 },
 "nbformat": 4,
 "nbformat_minor": 2
}
